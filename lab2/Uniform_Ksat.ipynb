{
  "cells": [
    {
      "cell_type": "code",
      "execution_count": 1,
      "metadata": {
        "id": "lzHHVQGCIw3C"
      },
      "outputs": [],
      "source": [
        "from string import ascii_lowercase\n",
        "import random\n",
        "from itertools import combinations\n",
        "import numpy as np"
      ]
    },
    {
      "cell_type": "code",
      "execution_count": null,
      "metadata": {
        "id": "wzL62ZPTI1Hc"
      },
      "outputs": [],
      "source": [
        "def createproblem(n,k,m):\n",
        "        pos_var = list(ascii_lowercase)[:n]\n",
        "        neg_var = [var.upper() for var in pos_var]\n",
        "        variables = pos_var + neg_var\n",
        "        problem = []\n",
        "        threshold = 10       \n",
        "        i = 0\n",
        "        comb = list(combinations(variables,k))\n",
        "        \n",
        "        while i<threshold:\n",
        "            c = random.sample(comb,m)\n",
        "            if c not in problem:\n",
        "                problem.append(c)\n",
        "                i += 1\n",
        "        \n",
        "        new_problem = []\n",
        "        for c in problem:\n",
        "            temp = []\n",
        "            temp = [list(sub) for sub in c]\n",
        "            new_problem.append(temp)\n",
        "        return  variables,new_problem "
      ]
    },
    {
      "cell_type": "code",
      "execution_count": null,
      "metadata": {
        "id": "UI7TwRdPI2TY"
      },
      "outputs": [],
      "source": [
        "def random_assign(variables,n):\n",
        "    literal = list(np.random.choice(2,n))\n",
        "    negation = [abs(i-1) for i in literal]\n",
        "    assign = literal + negation\n",
        "    return dict(zip(variables,assign))"
      ]
    },
    {
      "cell_type": "code",
      "execution_count": null,
      "metadata": {
        "colab": {
          "base_uri": "https://localhost:8080/"
        },
        "id": "HLrrRm5wI3iI",
        "outputId": "d8188ab3-0c0a-427c-d00c-419a4d1e1cdc"
      },
      "outputs": [
        {
          "name": "stdout",
          "output_type": "stream",
          "text": [
            "['a', 'b', 'c', 'd', 'e', 'A', 'B', 'C', 'D', 'E']\n",
            "[['b', 'C', 'E'], ['c', 'd', 'C'], ['e', 'C', 'E']]\n",
            "[['d', 'A', 'E'], ['d', 'e', 'B'], ['a', 'e', 'C']]\n",
            "[['b', 'c', 'D'], ['d', 'A', 'C'], ['c', 'e', 'A']]\n",
            "[['e', 'A', 'C'], ['a', 'c', 'd'], ['d', 'B', 'C']]\n",
            "[['b', 'c', 'A'], ['a', 'A', 'B'], ['a', 'b', 'B']]\n",
            "[['e', 'B', 'D'], ['a', 'A', 'C'], ['d', 'A', 'B']]\n",
            "[['d', 'A', 'E'], ['b', 'd', 'D'], ['c', 'e', 'E']]\n",
            "[['c', 'e', 'E'], ['a', 'e', 'A'], ['e', 'A', 'C']]\n",
            "[['b', 'e', 'D'], ['b', 'B', 'D'], ['b', 'e', 'A']]\n",
            "[['a', 'c', 'B'], ['a', 'b', 'e'], ['e', 'A', 'C']]\n"
          ]
        }
      ],
      "source": [
        "n = 5\n",
        "k = 3\n",
        "m = 3\n",
        "var,prob = createproblem(n,k,m)\n",
        "print(var)\n",
        "for i in prob:\n",
        "    print(i)\n",
        "    "
      ]
    },
    {
      "cell_type": "code",
      "execution_count": null,
      "metadata": {
        "colab": {
          "base_uri": "https://localhost:8080/"
        },
        "id": "9-Ddf4A5I4wX",
        "outputId": "ec8b6225-7cb4-4891-e79f-db117cbe3644"
      },
      "outputs": [
        {
          "name": "stdout",
          "output_type": "stream",
          "text": [
            "{'a': 0, 'b': 0, 'c': 1, 'd': 0, 'e': 1, 'A': 1, 'B': 1, 'C': 0, 'D': 1, 'E': 0}\n"
          ]
        }
      ],
      "source": [
        "print(random_assign(var,n))"
      ]
    }
  ],
  "metadata": {
    "colab": {
      "provenance": []
    },
    "kernelspec": {
      "display_name": "Python 3",
      "name": "python3"
    },
    "language_info": {
      "codemirror_mode": {
        "name": "ipython",
        "version": 3
      },
      "file_extension": ".py",
      "mimetype": "text/x-python",
      "name": "python",
      "nbconvert_exporter": "python",
      "pygments_lexer": "ipython3",
      "version": "3.9.13"
    }
  },
  "nbformat": 4,
  "nbformat_minor": 0
}
