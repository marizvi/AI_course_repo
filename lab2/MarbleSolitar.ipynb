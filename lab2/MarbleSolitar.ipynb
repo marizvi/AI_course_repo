{
  "cells": [
    {
      "cell_type": "code",
      "execution_count": 3,
      "metadata": {
        "id": "sZxX4Wg0I_7m"
      },
      "outputs": [],
      "source": [
        "import numpy as np\n",
        "from time import time"
      ]
    },
    {
      "cell_type": "code",
      "execution_count": 4,
      "metadata": {
        "id": "Xv8Njo6jJGxA"
      },
      "outputs": [],
      "source": [
        "class Node:\n",
        "    def __init__(self, parent, state, pcost, hcost, action=None):\n",
        "        \n",
        "        self.parent = parent\n",
        "        self.state = state\n",
        "        self.action = action\n",
        "        self.pcost = pcost\n",
        "        self.hcost = hcost\n",
        "        self.cost = pcost + hcost\n",
        "    \n",
        "    def __hash__(self):\n",
        "        \n",
        "        return hash(str(self.state.flatten()))\n",
        "    \n",
        "    def __str__(self):\n",
        "        return str(self.state)\n",
        "    \n",
        "    def __eq__(self, other):\n",
        "        \n",
        "        return hash(''.join(self.state.flatten())) == hash(''.join(other.state.flatten())) \n",
        "    \n",
        "    def __ne__(self, other):\n",
        "        return hash(''.join(self.state.flatten())) != hash(''.join(other.state.flatten()))\n"
      ]
    },
    {
      "cell_type": "code",
      "execution_count": 5,
      "metadata": {
        "id": "N8JhvNlnJIKN"
      },
      "outputs": [],
      "source": [
        "class PriorityQueue():\n",
        "    \n",
        "    def __init__(self):\n",
        "        self.queue = []\n",
        "        self.hashes = {}\n",
        "        \n",
        "    def push(self, node):\n",
        "        if hash(node) not in self.hashes:\n",
        "            self.hashes[hash(node)] = 1\n",
        "            self.queue.append(node)\n",
        "    \n",
        "    def pop(self):\n",
        "        \n",
        "        next_state = None\n",
        "        state_cost = 10**18\n",
        "        index = -1\n",
        "        \n",
        "        for i in range(len(self.queue)):\n",
        "            \n",
        "            if self.queue[i].cost<state_cost:\n",
        "                state_cost = self.queue[i].cost\n",
        "                index = i\n",
        "        \n",
        "        return self.queue.pop(index)\n",
        "    \n",
        "    def is_empty(self):\n",
        "        \n",
        "        return len(self.queue)==0\n",
        "    \n",
        "    def __str__(self):\n",
        "        l = []\n",
        "        for i in self.queue:\n",
        "            l.append(i.state)\n",
        "        \n",
        "        return str(l)\n",
        "    \n",
        "    def __len__(self):\n",
        "        return len(self.queue)\n",
        "            "
      ]
    },
    {
      "cell_type": "code",
      "execution_count": 6,
      "metadata": {
        "id": "4Tt1dbopJJ1W"
      },
      "outputs": [],
      "source": [
        "class Environment():\n",
        "    \n",
        "    def __init__(self, start_state=None, goal_state=None):\n",
        "        self.actions = [1,2,3,4] #1 - Up, 2 - Down, 3 - Right, 4 - Left\n",
        "        if goal_state is None:\n",
        "            self.goal_state = self.generate_goal_state()\n",
        "        else:\n",
        "            self.goal_state = goal_state\n",
        "        if start_state is None:\n",
        "            self.start_state = self.generate_start_state()\n",
        "        else:\n",
        "            self.start_state = start_state\n",
        "    \n",
        "    def generate_start_state(self):\n",
        "        \n",
        "        start = np.zeros((7,7))\n",
        "        x = (0,1,5,6)\n",
        "        y = (0,1,5,6)\n",
        "\n",
        "        for i in x:\n",
        "            for j in y:\n",
        "                start[i][j] = -1\n",
        "\n",
        "        x = (2,3,4)\n",
        "        y = range(7)\n",
        "\n",
        "        for i in x:\n",
        "            for j in y:\n",
        "                start[i][j] = 1\n",
        "                start[j][i] = 1\n",
        "        start[3][3] = 0\n",
        "        \n",
        "        return start\n",
        "    \n",
        "    def generate_goal_state(self):\n",
        "    \n",
        "        goal = np.zeros((7,7))\n",
        "        x = (0,1,5,6)\n",
        "        y = (0,1,5,6)\n",
        "\n",
        "        for i in x:\n",
        "            for j in y:\n",
        "                goal[i][j] = -1\n",
        "\n",
        "        x = (2,3,4)\n",
        "        y = range(7)\n",
        "\n",
        "        for i in x:\n",
        "            for j in y:\n",
        "                goal[i][j] = 0\n",
        "                goal[j][i] = 0\n",
        "        goal[3][3] = 1\n",
        "        return goal\n",
        "\n",
        "    def get_start_state(self):\n",
        "        return self.start_state\n",
        "    \n",
        "    def get_goal_state(self):\n",
        "        return self.goal_state\n",
        "    \n",
        "    def get_next_states(self, state):\n",
        "        \n",
        "        new_states = []\n",
        "        spaces = []\n",
        "        for i in range(7):\n",
        "            for j in range(7):\n",
        "                if state[i][j]==0:\n",
        "                    spaces.append((i,j))\n",
        "        \n",
        "        for space in spaces:\n",
        "            \n",
        "            x, y = space\n",
        "            #Move from top to bottom\n",
        "            if x>1:\n",
        "                if state[x-1][y]==1 and state[x-2][y]==1:\n",
        "                    new_state = state.copy()\n",
        "                    new_state[x][y] = 1\n",
        "                    new_state[x-2][y] = 0\n",
        "                    new_state[x-1][y] = 0\n",
        "                    action = f'({x-2}, {y}) -> ({x}, {y})'\n",
        "                    new_states.append((new_state, action))\n",
        "            #Move from bottom to top\n",
        "            if x<5:\n",
        "                if state[x+1][y]==1 and state[x+2][y]==1:\n",
        "                    new_state = state.copy()\n",
        "                    new_state[x][y] = 1\n",
        "                    new_state[x+2][y] = 0\n",
        "                    new_state[x+1][y] = 0\n",
        "                    action = f'({x+2}, {y}) -> ({x}, {y})'\n",
        "                    new_states.append((new_state, action))\n",
        "            \n",
        "            #Move from left to right\n",
        "            if y>1:\n",
        "                if state[x][y-1]==1 and state[x][y-2]==1:\n",
        "                    new_state = state.copy()\n",
        "                    new_state[x][y] = 1\n",
        "                    new_state[x][y-2] = 0\n",
        "                    new_state[x][y-1] = 0\n",
        "                    action = f'({x}, {y-2}) -> ({x}, {y})'\n",
        "                    new_states.append((new_state, action))\n",
        "            \n",
        "            if y<5:\n",
        "                if state[x][y+1]==1 and state[x][y+2]==1:\n",
        "                    new_state = state.copy()\n",
        "                    new_state[x][y] = 1\n",
        "                    new_state[x][y+2] = 0\n",
        "                    new_state[x][y+1] = 0\n",
        "                    action = f'({x}, {y+2}) -> ({x}, {y})'\n",
        "                    new_states.append((new_state, action))\n",
        "        \n",
        "        return new_states\n",
        "    \n",
        "    def reached_goal(self, state):\n",
        "        \n",
        "        for i in range(7):\n",
        "            for j in range(7):\n",
        "                if state[i,j] != self.goal_state[i,j]:\n",
        "                    return False\n",
        "                    \n",
        "        \n",
        "        return True"
      ]
    },
    {
      "cell_type": "code",
      "execution_count": 7,
      "metadata": {
        "id": "VABFkT6mJLd5"
      },
      "outputs": [],
      "source": [
        "\n",
        "\n",
        "class Agent:\n",
        "    \n",
        "    def __init__(self, env, heuristic):\n",
        "        self.frontier = PriorityQueue()\n",
        "        self.explored = dict()\n",
        "        self.start_state = env.get_start_state()\n",
        "        self.goal_state = env.get_goal_state()\n",
        "        self.env = env\n",
        "        self.goal_node = None\n",
        "        self.heuristic = heuristic\n",
        "    \n",
        "    def run(self):\n",
        "        init_node = Node(parent = None, state = self.start_state, pcost = 0, hcost = 0)\n",
        "        self.frontier.push(init_node)\n",
        "        start = time()\n",
        "        while not self.frontier.is_empty():\n",
        "\n",
        "            curr_node = self.frontier.pop()\n",
        "            next_states = self.env.get_next_states(curr_node.state)\n",
        "\n",
        "            if hash(curr_node) in self.explored:\n",
        "                continue\n",
        "                \n",
        "            self.explored[hash(curr_node)] = curr_node\n",
        "\n",
        "            if self.env.reached_goal(curr_node.state):\n",
        "                print(\"Reached goal!\")\n",
        "                self.goal_node = curr_node\n",
        "                break\n",
        "            goal_state = self.env.get_goal_state()\n",
        "\n",
        "            l = []\n",
        "            for state in next_states:\n",
        "\n",
        "                hcost = self.heuristic(state[0])\n",
        "                node = Node(parent=curr_node, state=state[0], pcost=curr_node.pcost+1, hcost=hcost, action=state[1])\n",
        "                self.frontier.push(node)\n",
        "\n",
        "        end = time()\n",
        "        print(end - start)\n",
        "        return end-start\n",
        "    \n",
        "    def print_nodes(self):\n",
        "        \n",
        "        node = self.goal_node\n",
        "        l = []\n",
        "        while node is not None:\n",
        "            l.append(node)\n",
        "            node = node.parent\n",
        "\n",
        "        step = 1\n",
        "        for node in l[::-1]:\n",
        "            print(\"Step: \",step)\n",
        "            print(node.action)\n",
        "            #print(node)\n",
        "            step+=1\n",
        "  "
      ]
    },
    {
      "cell_type": "code",
      "execution_count": 8,
      "metadata": {
        "id": "w0T7ZbYiJRxv"
      },
      "outputs": [],
      "source": [
        "def heuristic0(curr_state):\n",
        "    return 0"
      ]
    },
    {
      "cell_type": "code",
      "execution_count": 9,
      "metadata": {
        "id": "INVf1FkhJNHo"
      },
      "outputs": [],
      "source": [
        "def heuristic1(curr_state):\n",
        "    cost = 0\n",
        "    for i in range(7):\n",
        "        for j in range(7):\n",
        "            if curr_state[i][j]==1:\n",
        "                cost += abs(i-3)+abs(j-3)\n",
        "    \n",
        "    return cost\n"
      ]
    },
    {
      "cell_type": "code",
      "execution_count": 10,
      "metadata": {
        "id": "iBHrMi8jJU7W"
      },
      "outputs": [],
      "source": [
        "def heuristic2(curr_state):\n",
        "    cost = 0\n",
        "    for i in range(7):\n",
        "        for j in range(7):\n",
        "            if curr_state[i][j]==1:\n",
        "                cost += 2**(max(abs(i-3),abs(j-3)))\n",
        "    \n",
        "    return cost"
      ]
    },
    {
      "cell_type": "code",
      "execution_count": 11,
      "metadata": {
        "colab": {
          "base_uri": "https://localhost:8080/"
        },
        "id": "SjkHJdNMJWW5",
        "outputId": "89c5500f-db0c-4d65-f960-66ecb5612cbe"
      },
      "outputs": [
        {
          "name": "stdout",
          "output_type": "stream",
          "text": [
            "Reached goal!\n",
            "114.58573913574219\n"
          ]
        }
      ],
      "source": [
        "t = 0\n",
        "for i in range(10):\n",
        "    agent = Agent(Environment(), heuristic2)\n",
        "    t+=agent.run()\n",
        "    \n",
        "print(\"Average time\", t/10)"
      ]
    },
    {
      "cell_type": "code",
      "execution_count": null,
      "metadata": {
        "colab": {
          "base_uri": "https://localhost:8080/"
        },
        "id": "qQ312zsIJXyx",
        "outputId": "f990a367-edf4-4df0-a359-181a5c19e1f6"
      },
      "outputs": [
        {
          "name": "stdout",
          "output_type": "stream",
          "text": [
            "Number of nodes explored: 33353\n",
            "Number of nodes in frontier: 213\n"
          ]
        }
      ],
      "source": [
        "print(\"Number of nodes explored:\", len(agent.explored))\n",
        "print(\"Number of nodes in frontier:\", len(agent.frontier))"
      ]
    },
    {
      "cell_type": "code",
      "execution_count": null,
      "metadata": {
        "colab": {
          "base_uri": "https://localhost:8080/",
          "height": 1000
        },
        "id": "MIeDC5_ZJlDr",
        "outputId": "4b25046b-74ca-4898-eabf-e0b4444b2a10"
      },
      "outputs": [],
      "source": [
        "class Agent:\n",
        "    \n",
        "    def __init__(self, env, heuristic):\n",
        "        self.frontier = PriorityQueue()\n",
        "        self.explored = dict()\n",
        "        self.start_state = env.get_start_state()\n",
        "        self.goal_state = env.get_goal_state()\n",
        "        self.env = env\n",
        "        self.goal_node = None\n",
        "        self.heuristic = heuristic\n",
        "    \n",
        "    def run(self):\n",
        "        init_node = Node(parent = None, state = self.start_state, pcost = 0, hcost = 0)\n",
        "        self.frontier.push(init_node)\n",
        "        start = time()\n",
        "        while not self.frontier.is_empty():\n",
        "\n",
        "            curr_node = self.frontier.pop()\n",
        "            next_states = self.env.get_next_states(curr_node.state)\n",
        "\n",
        "            if hash(curr_node) in self.explored:\n",
        "                continue\n",
        "                \n",
        "            self.explored[hash(curr_node)] = curr_node\n",
        "\n",
        "            if self.env.reached_goal(curr_node.state):\n",
        "                print(\"Reached goal!\")\n",
        "                self.goal_node = curr_node\n",
        "                break\n",
        "            goal_state = self.env.get_goal_state()\n",
        "\n",
        "            l = []\n",
        "            for state in next_states:\n",
        "\n",
        "                hcost = self.heuristic(state[0])\n",
        "                node = Node(parent=curr_node, state=state[0], pcost=0, hcost=hcost, action=state[1])\n",
        "                self.frontier.push(node)\n",
        "        \n",
        "        end = time()\n",
        "        print(end - start)\n",
        "        return end-start\n",
        "    \n",
        "    def print_nodes(self):\n",
        "        \n",
        "        node = self.goal_node\n",
        "        l = []\n",
        "        while node is not None:\n",
        "            l.append(node)\n",
        "            node = node.parent\n",
        "\n",
        "        step = 1\n",
        "        for node in l[::-1]:\n",
        "            print(\"Step: \",step)\n",
        "            print(node.action)\n",
        "            #print(node)\n",
        "            step+=1\n",
        "  "
      ]
    },
    {
      "cell_type": "code",
      "execution_count": null,
      "metadata": {
        "id": "_7c2fBpiJxK7"
      },
      "outputs": [
        {
          "ename": "NameError",
          "evalue": "name 'Environment' is not defined",
          "output_type": "error",
          "traceback": [
            "\u001b[1;31m---------------------------------------------------------------------------\u001b[0m",
            "\u001b[1;31mNameError\u001b[0m                                 Traceback (most recent call last)",
            "\u001b[1;32m~\\AppData\\Local\\Temp\\ipykernel_14916\\4088110983.py\u001b[0m in \u001b[0;36m<module>\u001b[1;34m\u001b[0m\n\u001b[0;32m      1\u001b[0m \u001b[0mt\u001b[0m \u001b[1;33m=\u001b[0m \u001b[1;36m0\u001b[0m\u001b[1;33m\u001b[0m\u001b[1;33m\u001b[0m\u001b[0m\n\u001b[0;32m      2\u001b[0m \u001b[1;32mfor\u001b[0m \u001b[0mi\u001b[0m \u001b[1;32min\u001b[0m \u001b[0mrange\u001b[0m\u001b[1;33m(\u001b[0m\u001b[1;36m10\u001b[0m\u001b[1;33m)\u001b[0m\u001b[1;33m:\u001b[0m\u001b[1;33m\u001b[0m\u001b[1;33m\u001b[0m\u001b[0m\n\u001b[1;32m----> 3\u001b[1;33m     \u001b[0magent\u001b[0m \u001b[1;33m=\u001b[0m \u001b[0mAgent\u001b[0m\u001b[1;33m(\u001b[0m\u001b[0mEnvironment\u001b[0m\u001b[1;33m(\u001b[0m\u001b[1;33m)\u001b[0m\u001b[1;33m,\u001b[0m \u001b[0mheuristic2\u001b[0m\u001b[1;33m)\u001b[0m\u001b[1;33m\u001b[0m\u001b[1;33m\u001b[0m\u001b[0m\n\u001b[0m\u001b[0;32m      4\u001b[0m     \u001b[0mt\u001b[0m\u001b[1;33m+=\u001b[0m\u001b[0magent\u001b[0m\u001b[1;33m.\u001b[0m\u001b[0mrun\u001b[0m\u001b[1;33m(\u001b[0m\u001b[1;33m)\u001b[0m\u001b[1;33m\u001b[0m\u001b[1;33m\u001b[0m\u001b[0m\n\u001b[0;32m      5\u001b[0m \u001b[1;33m\u001b[0m\u001b[0m\n",
            "\u001b[1;31mNameError\u001b[0m: name 'Environment' is not defined"
          ]
        }
      ],
      "source": [
        "t = 0\n",
        "for i in range(10):\n",
        "    agent = Agent(Environment(), heuristic2)\n",
        "    t+=agent.run()\n",
        "    \n",
        "print(\"Average time\", t/10)"
      ]
    },
    {
      "cell_type": "code",
      "execution_count": null,
      "metadata": {
        "id": "1i3f7VsmJz8n"
      },
      "outputs": [],
      "source": [
        "print(\"Number of nodes explored:\", len(agent.explored))\n",
        "print(\"Number of nodes in frontier:\", len(agent.frontier))"
      ]
    },
    {
      "cell_type": "code",
      "execution_count": null,
      "metadata": {},
      "outputs": [],
      "source": []
    },
    {
      "cell_type": "code",
      "execution_count": null,
      "metadata": {},
      "outputs": [],
      "source": []
    }
  ],
  "metadata": {
    "colab": {
      "provenance": []
    },
    "kernelspec": {
      "display_name": "Python 3",
      "name": "python3"
    },
    "language_info": {
      "codemirror_mode": {
        "name": "ipython",
        "version": 3
      },
      "file_extension": ".py",
      "mimetype": "text/x-python",
      "name": "python",
      "nbconvert_exporter": "python",
      "pygments_lexer": "ipython3",
      "version": "3.9.13"
    }
  },
  "nbformat": 4,
  "nbformat_minor": 0
}
