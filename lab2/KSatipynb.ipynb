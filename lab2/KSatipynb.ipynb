{
  "cells": [
    {
      "cell_type": "code",
      "execution_count": 1,
      "metadata": {
        "id": "WU4uzgDJGXhq"
      },
      "outputs": [],
      "source": [
        "from string import ascii_lowercase\n",
        "import random\n",
        "from itertools import combinations\n",
        "import numpy as np"
      ]
    },
    {
      "cell_type": "code",
      "execution_count": 2,
      "metadata": {
        "id": "U_96pmNzGehT"
      },
      "outputs": [],
      "source": [
        "def createproblem(n,k,m):\n",
        "        pos_var = list(ascii_lowercase)[:n]\n",
        "        neg_var = [var.upper() for var in pos_var]\n",
        "        variables = pos_var + neg_var\n",
        "        problem = []\n",
        "        threshold = 10       \n",
        "        i = 0\n",
        "        combination = list(combinations(variables,k))\n",
        "        \n",
        "        while i<threshold:\n",
        "            c = random.sample(combination,m)\n",
        "            if c not in problem:\n",
        "                problem.append(c)\n",
        "                i += 1\n",
        "        \n",
        "        new_problem = []\n",
        "        for c in problem:\n",
        "            temp = []\n",
        "            temp = [list(sub) for sub in c]\n",
        "            new_problem.append(temp)\n",
        "        return  variables,new_problem \n",
        "     \n",
        "    \n",
        " \n",
        "        "
      ]
    },
    {
      "cell_type": "code",
      "execution_count": 3,
      "metadata": {
        "id": "rwg136W2GgId"
      },
      "outputs": [],
      "source": [
        "def random_assign(variables,n):\n",
        "    literal = list(np.random.choice(2,n))\n",
        "    negation = [abs(i-1) for i in literal]\n",
        "    assign = literal + negation\n",
        "    return dict(zip(variables,assign))\n",
        "\n",
        "def heuristic(problem,assign):\n",
        "    count = 0\n",
        "    for sub in problem:       \n",
        "        encode = [assign[val] for val in sub]\n",
        "        count += any(encode)\n",
        "    return count    \n",
        "    \n",
        "    "
      ]
    },
    {
      "cell_type": "code",
      "execution_count": 4,
      "metadata": {
        "id": "xo3ChXaGGkrq"
      },
      "outputs": [],
      "source": [
        "def next_node(current):\n",
        "    key = list(current.keys())\n",
        "    key.sort()\n",
        "    key = key[0:len(key)//2]\n",
        "    successors = []\n",
        "    for k in key:\n",
        "        temp = current.copy()\n",
        "        temp[k] = abs(temp[k]-1)\n",
        "        temp[chr(ord(k)+32)] = abs(temp[chr(ord(k)+32)]-1)\n",
        "        successors.append(temp)  \n",
        "    \n",
        "\n",
        "    \n",
        "    return successors\n",
        "    "
      ]
    },
    {
      "cell_type": "code",
      "execution_count": 5,
      "metadata": {
        "colab": {
          "base_uri": "https://localhost:8080/"
        },
        "id": "JxIe2ceVGmjv",
        "outputId": "bc38c556-e938-41b2-bbab-303ce8972087"
      },
      "outputs": [
        {
          "name": "stdout",
          "output_type": "stream",
          "text": [
            "[{'a': 1, 'b': 0, 'c': 0, 'A': 0, 'B': 1, 'C': 1}, {'a': 0, 'b': 1, 'c': 0, 'A': 1, 'B': 0, 'C': 1}, {'a': 0, 'b': 0, 'c': 1, 'A': 1, 'B': 1, 'C': 0}]\n"
          ]
        }
      ],
      "source": [
        "print(next_node({'a': 0, 'b': 0, 'c': 0, 'A': 1, 'B': 1, 'C': 1}))"
      ]
    },
    {
      "cell_type": "code",
      "execution_count": 8,
      "metadata": {
        "id": "CuxHrjA3Gmo0"
      },
      "outputs": [],
      "source": [
        "def select_node(successor,problem):\n",
        "    heuristic_val = []\n",
        "    for i in successor:\n",
        "        heuristic_val.append(heuristic(problem,i))\n",
        "    index = heuristic_val.index(max(heuristic_val))\n",
        "    return successor[index]\n",
        "\n",
        "def check_goal_state(state,problem):\n",
        "    count = 0\n",
        "    for sub in problem:       \n",
        "        encode = [state[val] for val in sub]\n",
        "        count += any(encode)\n",
        "    return len(problem) == count\n",
        "\n",
        "def hill_climbing(current_state,problem,step):\n",
        "    if step == 10000:\n",
        "        print('halted at depth',step)\n",
        "        return\n",
        "    if check_goal_state(current_state,problem)==True:\n",
        "        print(current_state,step)\n",
        "        return \n",
        "    else:\n",
        "        step += 1\n",
        "        successor = next_node(current_state)\n",
        "        new_node = select_node(successor,problem)\n",
        "        hill_climbing(new_node,problem,step)"
      ]
    },
    {
      "cell_type": "code",
      "execution_count": 10,
      "metadata": {
        "colab": {
          "base_uri": "https://localhost:8080/"
        },
        "id": "lJcBVaMXGmtH",
        "outputId": "db8457d2-3035-4080-b528-6329181dd841"
      },
      "outputs": [
        {
          "name": "stdout",
          "output_type": "stream",
          "text": [
            "['a', 'b', 'A', 'B']\n",
            "[['a', 'b', 'A'], ['b', 'A', 'B']]\n",
            "[['b', 'A', 'B'], ['a', 'b', 'A']]\n",
            "[['a', 'b', 'A'], ['a', 'b', 'B']]\n",
            "[['b', 'A', 'B'], ['a', 'b', 'B']]\n",
            "[['a', 'A', 'B'], ['b', 'A', 'B']]\n",
            "[['a', 'b', 'A'], ['a', 'A', 'B']]\n",
            "[['a', 'b', 'B'], ['a', 'b', 'A']]\n",
            "[['a', 'A', 'B'], ['a', 'b', 'A']]\n",
            "[['a', 'b', 'B'], ['a', 'A', 'B']]\n",
            "[['a', 'b', 'B'], ['b', 'A', 'B']]\n"
          ]
        }
      ],
      "source": [
        "n = 2\n",
        "k = 3\n",
        "m = 2\n",
        "var,prob = createproblem(n,k,m)\n",
        "print(var)\n",
        "for i in prob:\n",
        "    print(i)\n",
        "    "
      ]
    },
    {
      "cell_type": "code",
      "execution_count": 11,
      "metadata": {
        "colab": {
          "base_uri": "https://localhost:8080/"
        },
        "id": "o7J0QWAxGmvl",
        "outputId": "ad56f822-0a7c-408f-e5bc-f542cd22efcb"
      },
      "outputs": [
        {
          "name": "stdout",
          "output_type": "stream",
          "text": [
            "{'a': 1, 'b': 1, 'A': 0, 'B': 0} [['a', 'b', 'A'], ['b', 'A', 'B']]\n",
            "{'a': 1, 'b': 1, 'A': 0, 'B': 0} 0\n"
          ]
        }
      ],
      "source": [
        "start_state = random_assign(var,n)\n",
        "print(start_state,prob[0])\n",
        "# start_state = {'a': 0, 'b': 0, 'c': 0, 'd': 0, 'e': 0, 'f':0,'A': 1, 'B': 1, 'C': 1, 'D': 1, 'E': 1, 'F':1}\n",
        "hill_climbing(start_state,prob[0],0)"
      ]
    },
    {
      "cell_type": "markdown",
      "metadata": {
        "id": "pohOmcCrGyPI"
      },
      "source": [
        "## BEAM SEARCH"
      ]
    },
    {
      "cell_type": "code",
      "execution_count": 12,
      "metadata": {
        "id": "Uq9rNjoqGmxw"
      },
      "outputs": [],
      "source": [
        "def heuristic(problem,assign):\n",
        "    count = 0\n",
        "    for sub in problem:       \n",
        "        encode = [assign[val] for val in sub]\n",
        "        count += any(encode)\n",
        "    return count\n",
        "    \n",
        "def select_node_beam(successor,problem,beamwidth):\n",
        "    heuristic_val = []\n",
        "    beam_nodes = []\n",
        "    for i in successor:\n",
        "        heuristic_val.append(heuristic(problem,i))\n",
        "    for i in range(beamwidth):\n",
        "        index = heuristic_val.index(max(heuristic_val))\n",
        "        beam_nodes.append(successor[index])\n",
        "        successor.remove(successor[index])\n",
        "        \n",
        "    return beam_nodes\n"
      ]
    },
    {
      "cell_type": "code",
      "execution_count": 13,
      "metadata": {
        "id": "1uya3X7uGmz3"
      },
      "outputs": [],
      "source": [
        "def check_goal_state(state,problem,beamwidth):\n",
        "    count = 0\n",
        "    for sub in problem:       \n",
        "        encode = [state[val] for val in sub]\n",
        "        count += any(encode)\n",
        "    return len(problem) == count\n",
        "\n",
        "\n",
        "    "
      ]
    },
    {
      "cell_type": "code",
      "execution_count": 14,
      "metadata": {
        "id": "N6eOVI2gHkgl"
      },
      "outputs": [],
      "source": [
        "def next_node_beam(succs):\n",
        "    nextnode= []\n",
        "    for current in succs:\n",
        "        key = list(current.keys())\n",
        "        key.sort()\n",
        "        key = key[0:len(key)//2]\n",
        "        successors = []\n",
        "        for k in key:\n",
        "            temp = current.copy()\n",
        "            temp[k] = abs(temp[k]-1)\n",
        "            temp[chr(ord(k)+32)] = abs(temp[chr(ord(k)+32)]-1)\n",
        "            successors.append(temp)\n",
        "            nextnode.append(temp)\n",
        "        \n",
        "    return nextnode\n",
        "\n"
      ]
    },
    {
      "cell_type": "code",
      "execution_count": 15,
      "metadata": {
        "id": "uDCH7SBPHsQr"
      },
      "outputs": [],
      "source": [
        "\n",
        "def beam_search(start,problem,step,beamwidth):\n",
        "    if step == 10000:\n",
        "        print('halted at depth',step)\n",
        "        return\n",
        "    for current_state in start:\n",
        "        print(current_state)\n",
        "        if check_goal_state(current_state,problem)==True:\n",
        "            print(current_state,step)\n",
        "            return \n",
        "    step +=1    \n",
        "    successor = next_node_beam(start,problem,beamwidth)\n",
        "    new_node = select_node_beam(successor,prob[0],beamwidth)\n",
        "    beam_search(start,problem,step,beamwidth)"
      ]
    },
    {
      "cell_type": "code",
      "execution_count": 16,
      "metadata": {
        "colab": {
          "base_uri": "https://localhost:8080/"
        },
        "id": "jlodg4VgHBcz",
        "outputId": "5fd05436-7dff-457d-97be-7642d6eaa5aa"
      },
      "outputs": [
        {
          "name": "stdout",
          "output_type": "stream",
          "text": [
            "[{'a': 1, 'b': 0, 'A': 0, 'B': 1}, {'a': 1, 'b': 0, 'A': 0, 'B': 1}]\n"
          ]
        }
      ],
      "source": [
        "start_state = random_assign(var,n)\n",
        "print([start_state,start_state])"
      ]
    },
    {
      "cell_type": "markdown",
      "metadata": {
        "id": "hy787SL3HEPT"
      },
      "source": [
        "# Variable-Neighborhood-Descent with 3 neighborhood functions\n"
      ]
    },
    {
      "cell_type": "code",
      "execution_count": 17,
      "metadata": {
        "id": "6EXgyOthHKre"
      },
      "outputs": [],
      "source": [
        "def heuristic(problem,assign):\n",
        "    count = 0\n",
        "    for sub in problem:       \n",
        "        encode = [assign[val] for val in sub]\n",
        "        count += any(encode)\n",
        "    return count\n"
      ]
    },
    {
      "cell_type": "code",
      "execution_count": 18,
      "metadata": {
        "id": "0drrPSdFH-m2"
      },
      "outputs": [],
      "source": [
        "def check_goal_state(state,problem):\n",
        "    count = 0\n",
        "    for sub in problem:       \n",
        "        encode = [state[val] for val in sub]\n",
        "        count += any(encode)\n",
        "    return len(problem) == count"
      ]
    },
    {
      "cell_type": "code",
      "execution_count": 19,
      "metadata": {
        "id": "jmARjidJIARZ"
      },
      "outputs": [],
      "source": [
        "def select_node(successor,problem):\n",
        "    heuristic_val = []\n",
        "    for i in successor:\n",
        "        heuristic_val.append(heuristic(problem,i))\n",
        "    index = heuristic_val.index(max(heuristic_val))\n",
        "    return successor[index]"
      ]
    },
    {
      "cell_type": "code",
      "execution_count": 20,
      "metadata": {
        "id": "5ACb9iVQIB7p"
      },
      "outputs": [],
      "source": [
        "def nghd1(current):\n",
        "    key = list(current.keys())\n",
        "    key.sort()\n",
        "    key = key[0:len(key)//2]\n",
        "    successors = []\n",
        "    for k in key:\n",
        "        temp = current.copy()\n",
        "        temp[k] = abs(temp[k]-1)\n",
        "        temp[chr(ord(k)+32)] = abs(temp[chr(ord(k)+32)]-1)\n",
        "        successors.append(temp)   \n",
        "\n",
        "    \n",
        "    return successors"
      ]
    },
    {
      "cell_type": "code",
      "execution_count": 21,
      "metadata": {
        "colab": {
          "base_uri": "https://localhost:8080/"
        },
        "id": "7tdRowZQIE8r",
        "outputId": "5b9badd2-fd2e-4aa9-8fac-ba5726c73cac"
      },
      "outputs": [
        {
          "name": "stdout",
          "output_type": "stream",
          "text": [
            "[{'a': 0, 'b': 1, 'c': 1, 'd': 1, 'e': 1, 'A': 1, 'B': 0, 'C': 0, 'D': 0, 'E': 0}, {'a': 1, 'b': 0, 'c': 1, 'd': 1, 'e': 1, 'A': 0, 'B': 1, 'C': 0, 'D': 0, 'E': 0}, {'a': 1, 'b': 1, 'c': 0, 'd': 1, 'e': 1, 'A': 0, 'B': 0, 'C': 1, 'D': 0, 'E': 0}, {'a': 1, 'b': 1, 'c': 1, 'd': 0, 'e': 1, 'A': 0, 'B': 0, 'C': 0, 'D': 1, 'E': 0}, {'a': 1, 'b': 1, 'c': 1, 'd': 1, 'e': 0, 'A': 0, 'B': 0, 'C': 0, 'D': 0, 'E': 1}]\n"
          ]
        }
      ],
      "source": [
        "print(nghd1({'a': 1, 'b': 1, 'c': 1, 'd': 1, 'e': 1, 'A': 0, 'B': 0, 'C': 0, 'D': 0, 'E': 0}))\n"
      ]
    },
    {
      "cell_type": "code",
      "execution_count": 22,
      "metadata": {
        "id": "AeXU_3UcIF-U"
      },
      "outputs": [],
      "source": [
        "def nghd2(current):\n",
        "    key = list(current.keys())\n",
        "    key.sort()\n",
        "    key = key[0:len(key)//2]\n",
        "    successors = []\n",
        "    for j in range(0,len(key)-1):\n",
        "        for i in range(j,len(key)-1):\n",
        "            \n",
        "            temp = current.copy()\n",
        "            temp[key[i]] = abs(temp[key[i]]-1)\n",
        "            temp[key[i+1]] = abs(temp[key[i+1]]-1)\n",
        "            temp[chr(ord(key[i])+32)] = abs(temp[chr(ord(key[i])+32)]-1)\n",
        "            temp[chr(ord(key[i+1])+32)] = abs(temp[chr(ord(key[i+1])+32)]-1)\n",
        "            successors.append(temp)   \n",
        "\n",
        "    \n",
        "    return successors"
      ]
    },
    {
      "cell_type": "code",
      "execution_count": 23,
      "metadata": {
        "colab": {
          "base_uri": "https://localhost:8080/"
        },
        "id": "MbUzbLc8IMAf",
        "outputId": "79b434e8-6d90-4d5d-ae8d-d1343c7f0617"
      },
      "outputs": [
        {
          "name": "stdout",
          "output_type": "stream",
          "text": [
            "[{'a': 0, 'b': 0, 'c': 1, 'd': 1, 'e': 1, 'A': 1, 'B': 1, 'C': 0, 'D': 0, 'E': 0}, {'a': 1, 'b': 0, 'c': 0, 'd': 1, 'e': 1, 'A': 0, 'B': 1, 'C': 1, 'D': 0, 'E': 0}, {'a': 1, 'b': 1, 'c': 0, 'd': 0, 'e': 1, 'A': 0, 'B': 0, 'C': 1, 'D': 1, 'E': 0}, {'a': 1, 'b': 1, 'c': 1, 'd': 0, 'e': 0, 'A': 0, 'B': 0, 'C': 0, 'D': 1, 'E': 1}, {'a': 1, 'b': 0, 'c': 0, 'd': 1, 'e': 1, 'A': 0, 'B': 1, 'C': 1, 'D': 0, 'E': 0}, {'a': 1, 'b': 1, 'c': 0, 'd': 0, 'e': 1, 'A': 0, 'B': 0, 'C': 1, 'D': 1, 'E': 0}, {'a': 1, 'b': 1, 'c': 1, 'd': 0, 'e': 0, 'A': 0, 'B': 0, 'C': 0, 'D': 1, 'E': 1}, {'a': 1, 'b': 1, 'c': 0, 'd': 0, 'e': 1, 'A': 0, 'B': 0, 'C': 1, 'D': 1, 'E': 0}, {'a': 1, 'b': 1, 'c': 1, 'd': 0, 'e': 0, 'A': 0, 'B': 0, 'C': 0, 'D': 1, 'E': 1}, {'a': 1, 'b': 1, 'c': 1, 'd': 0, 'e': 0, 'A': 0, 'B': 0, 'C': 0, 'D': 1, 'E': 1}]\n"
          ]
        }
      ],
      "source": [
        "print(nghd2({'a': 1, 'b': 1, 'c': 1, 'd': 1, 'e': 1, 'A': 0, 'B': 0, 'C': 0, 'D': 0, 'E': 0}))\n"
      ]
    },
    {
      "cell_type": "code",
      "execution_count": 24,
      "metadata": {
        "id": "V0KEy5ZBINxv"
      },
      "outputs": [],
      "source": [
        "def nghd3(current):\n",
        "    key = list(current.keys())\n",
        "    key.sort()\n",
        "    key = key[0:len(key)//2]\n",
        "    successors = []\n",
        "    for j in range(0,len(key)-2):\n",
        "        for k in range(j,len(key)-2):\n",
        "            for i in range(k,len(key)-2):               \n",
        "            \n",
        "                temp = current.copy()\n",
        "                temp[key[i]] = abs(temp[key[i]]-1)\n",
        "                temp[key[i+1]] = abs(temp[key[i+1]]-1)\n",
        "                temp[chr(ord(key[i])+32)] = abs(temp[chr(ord(key[i])+32)]-1)\n",
        "                temp[chr(ord(key[i+1])+32)] = abs(temp[chr(ord(key[i+1])+32)]-1)\n",
        "                successors.append(temp)   \n",
        "\n",
        "    \n",
        "    return successors"
      ]
    },
    {
      "cell_type": "code",
      "execution_count": 25,
      "metadata": {
        "colab": {
          "base_uri": "https://localhost:8080/"
        },
        "id": "WzG-7QvJIPhL",
        "outputId": "0b6b7b43-037c-441a-a0b9-35292766ed8b"
      },
      "outputs": [
        {
          "name": "stdout",
          "output_type": "stream",
          "text": [
            "[{'a': 0, 'b': 0, 'c': 1, 'd': 1, 'e': 1, 'A': 1, 'B': 1, 'C': 0, 'D': 0, 'E': 0}, {'a': 1, 'b': 0, 'c': 0, 'd': 1, 'e': 1, 'A': 0, 'B': 1, 'C': 1, 'D': 0, 'E': 0}, {'a': 1, 'b': 1, 'c': 0, 'd': 0, 'e': 1, 'A': 0, 'B': 0, 'C': 1, 'D': 1, 'E': 0}, {'a': 1, 'b': 0, 'c': 0, 'd': 1, 'e': 1, 'A': 0, 'B': 1, 'C': 1, 'D': 0, 'E': 0}, {'a': 1, 'b': 1, 'c': 0, 'd': 0, 'e': 1, 'A': 0, 'B': 0, 'C': 1, 'D': 1, 'E': 0}, {'a': 1, 'b': 1, 'c': 0, 'd': 0, 'e': 1, 'A': 0, 'B': 0, 'C': 1, 'D': 1, 'E': 0}, {'a': 1, 'b': 0, 'c': 0, 'd': 1, 'e': 1, 'A': 0, 'B': 1, 'C': 1, 'D': 0, 'E': 0}, {'a': 1, 'b': 1, 'c': 0, 'd': 0, 'e': 1, 'A': 0, 'B': 0, 'C': 1, 'D': 1, 'E': 0}, {'a': 1, 'b': 1, 'c': 0, 'd': 0, 'e': 1, 'A': 0, 'B': 0, 'C': 1, 'D': 1, 'E': 0}, {'a': 1, 'b': 1, 'c': 0, 'd': 0, 'e': 1, 'A': 0, 'B': 0, 'C': 1, 'D': 1, 'E': 0}]\n"
          ]
        }
      ],
      "source": [
        "print(nghd3({'a': 1, 'b': 1, 'c': 1, 'd': 1, 'e': 1, 'A': 0, 'B': 0, 'C': 0, 'D': 0, 'E': 0}))\n"
      ]
    },
    {
      "cell_type": "code",
      "execution_count": 27,
      "metadata": {
        "id": "jBwxQIhIIVbr"
      },
      "outputs": [],
      "source": [
        "def Variable_Neighborhood1(current_state,problem,step):\n",
        "    if step == 10000:\n",
        "        print('halted at depth',step)\n",
        "        return\n",
        "    if check_goal_state(current_state,problem)==True:\n",
        "        return current_state\n",
        "        \n",
        "    else:\n",
        "        step += 1\n",
        "        successor = next_node(current_state)\n",
        "        new_node = nghd1(successor,problem)\n",
        "        Variable_Neighborhood(new_node,problem,step)"
      ]
    },
    {
      "cell_type": "code",
      "execution_count": 28,
      "metadata": {
        "id": "-v6wnb7sIYUQ"
      },
      "outputs": [],
      "source": [
        "def Variable_Neighborhood2(current_state,problem,step):\n",
        "    if step == 10000:\n",
        "        print('halted at depth',step)\n",
        "        return\n",
        "    if check_goal_state(current_state,problem)==True:\n",
        "        return current_state\n",
        "         \n",
        "    else:\n",
        "        step += 1\n",
        "        successor = next_node(current_state)\n",
        "        new_node = nghd2(successor,problem)\n",
        "        Variable_Neighborhood(new_node,problem,step)"
      ]
    },
    {
      "cell_type": "code",
      "execution_count": 29,
      "metadata": {
        "id": "vH_mGEdaIaNN"
      },
      "outputs": [],
      "source": [
        "def Variable_Neighborhood3(current_state,problem,step):\n",
        "    if step == 10000:\n",
        "        print('halted at depth',step)\n",
        "        return\n",
        "    if check_goal_state(current_state,problem)==True:\n",
        "        print(current_state,step)\n",
        "        return \n",
        "    else:\n",
        "        step += 1\n",
        "        successor = next_node(current_state)\n",
        "        new_node = nghd3(successor,problem)\n",
        "        Variable_Neighborhood(new_node,problem,step)"
      ]
    },
    {
      "cell_type": "code",
      "execution_count": 30,
      "metadata": {
        "colab": {
          "base_uri": "https://localhost:8080/"
        },
        "id": "y_6SuNsQIbkE",
        "outputId": "f50c44a0-d373-4473-c655-cf4a118e0929"
      },
      "outputs": [
        {
          "name": "stdout",
          "output_type": "stream",
          "text": [
            "['a', 'b', 'c', 'd', 'e', 'A', 'B', 'C', 'D', 'E']\n",
            "[['e', 'A', 'D'], ['e', 'B', 'D'], ['d', 'e', 'D'], ['c', 'd', 'A'], ['a', 'e', 'D']]\n",
            "[['a', 'b', 'd'], ['b', 'c', 'E'], ['c', 'e', 'A'], ['b', 'C', 'D'], ['d', 'B', 'D']]\n",
            "[['c', 'd', 'C'], ['b', 'd', 'E'], ['a', 'b', 'C'], ['b', 'A', 'D'], ['a', 'B', 'E']]\n",
            "[['c', 'A', 'D'], ['d', 'C', 'E'], ['d', 'B', 'E'], ['b', 'd', 'e'], ['a', 'e', 'C']]\n",
            "[['b', 'e', 'B'], ['d', 'A', 'D'], ['a', 'c', 'B'], ['c', 'e', 'E'], ['d', 'A', 'B']]\n",
            "[['c', 'e', 'B'], ['b', 'B', 'D'], ['c', 'e', 'A'], ['c', 'e', 'E'], ['A', 'D', 'E']]\n",
            "[['a', 'B', 'E'], ['a', 'C', 'D'], ['b', 'c', 'e'], ['a', 'e', 'D'], ['A', 'C', 'D']]\n",
            "[['d', 'A', 'E'], ['b', 'e', 'B'], ['a', 'e', 'A'], ['d', 'B', 'C'], ['b', 'd', 'D']]\n",
            "[['d', 'C', 'E'], ['e', 'A', 'E'], ['e', 'D', 'E'], ['A', 'D', 'E'], ['a', 'b', 'E']]\n",
            "[['b', 'C', 'D'], ['d', 'B', 'E'], ['a', 'b', 'E'], ['a', 'D', 'E'], ['a', 'C', 'D']]\n"
          ]
        }
      ],
      "source": [
        "n = 5\n",
        "k = 3\n",
        "m = 5\n",
        "var,probl = createproblem(n,k,m)\n",
        "print(var)\n",
        "for i in probl:\n",
        "    print(i)"
      ]
    },
    {
      "cell_type": "code",
      "execution_count": 31,
      "metadata": {
        "colab": {
          "base_uri": "https://localhost:8080/"
        },
        "id": "6P5bX1gSIdLa",
        "outputId": "aa6b5341-683a-4988-eb50-12523ccda191"
      },
      "outputs": [
        {
          "name": "stdout",
          "output_type": "stream",
          "text": [
            "[{'a': 0, 'b': 1, 'c': 0, 'd': 0, 'e': 0, 'A': 1, 'B': 0, 'C': 1, 'D': 1, 'E': 1}, {'a': 0, 'b': 1, 'c': 0, 'd': 0, 'e': 0, 'A': 1, 'B': 0, 'C': 1, 'D': 1, 'E': 1}]\n"
          ]
        }
      ],
      "source": [
        "start_state = random_assign(var,n)\n",
        "print([start_state,start_state])\n"
      ]
    },
    {
      "cell_type": "code",
      "execution_count": 32,
      "metadata": {
        "colab": {
          "base_uri": "https://localhost:8080/"
        },
        "id": "bwL5IlIGIfit",
        "outputId": "d1c780f4-9e8b-4013-8fce-49484b449561"
      },
      "outputs": [
        {
          "data": {
            "text/plain": [
              "{'a': 0,\n",
              " 'b': 1,\n",
              " 'c': 0,\n",
              " 'd': 0,\n",
              " 'e': 0,\n",
              " 'A': 1,\n",
              " 'B': 0,\n",
              " 'C': 1,\n",
              " 'D': 1,\n",
              " 'E': 1}"
            ]
          },
          "execution_count": 32,
          "metadata": {},
          "output_type": "execute_result"
        }
      ],
      "source": [
        "var1 = start_state\n",
        "var2 = Variable_Neighborhood1(var1,prob[0],0)\n",
        "var3 = Variable_Neighborhood2(var2,prob[0],0)\n",
        "Variable_Neighborhood1(var3,prob[0],0)"
      ]
    },
    {
      "cell_type": "code",
      "execution_count": null,
      "metadata": {},
      "outputs": [],
      "source": []
    }
  ],
  "metadata": {
    "colab": {
      "provenance": []
    },
    "kernelspec": {
      "display_name": "Python 3",
      "name": "python3"
    },
    "language_info": {
      "codemirror_mode": {
        "name": "ipython",
        "version": 3
      },
      "file_extension": ".py",
      "mimetype": "text/x-python",
      "name": "python",
      "nbconvert_exporter": "python",
      "pygments_lexer": "ipython3",
      "version": "3.9.13"
    }
  },
  "nbformat": 4,
  "nbformat_minor": 0
}
